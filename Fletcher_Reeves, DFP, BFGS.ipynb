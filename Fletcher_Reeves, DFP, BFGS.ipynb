{
 "cells": [
  {
   "cell_type": "code",
   "execution_count": 1,
   "metadata": {
    "collapsed": true,
    "deletable": true,
    "editable": true
   },
   "outputs": [],
   "source": [
    "from IPython.display import Image\n",
    "import sympy as sp\n",
    "import math\n",
    "import numpy as np\n",
    "import datetime"
   ]
  },
  {
   "cell_type": "code",
   "execution_count": 2,
   "metadata": {
    "collapsed": false,
    "deletable": true,
    "editable": true
   },
   "outputs": [
    {
     "data": {
      "image/png": "[encoded data removed]",
      "text/plain": [
       "<IPython.core.display.Image object>"
      ]
     },
     "execution_count": 2,
     "metadata": {},
     "output_type": "execute_result"
    }
   ],
   "source": [
    "Image(filename='/Users/wy/Desktop/beales_function.png')"
   ]
  },
  {
   "cell_type": "code",
   "execution_count": 3,
   "metadata": {
    "collapsed": true,
    "deletable": true,
    "editable": true
   },
   "outputs": [],
   "source": [
    "class GoldSearch(object):\n",
    "\n",
    "    def  __init__(self):\n",
    "        self.l = 10**-5\n",
    "        self.alpha = (math.sqrt(5)-1)/2.\n",
    "\n",
    "    def g_lambda(self, a, b):\n",
    "        return a+(1-self.alpha)*(b-a)\n",
    "\n",
    "    def g_mu(self, a, b):\n",
    "        return a+self.alpha*(b-a)\n",
    "\n",
    "    def goldSearch(self, a, b,lambda_k,mu_k,function,k = 1):\n",
    "        # step1\n",
    "        if (b - a) < self.l:\n",
    "            return (a+b)/2.\n",
    "\n",
    "        if function(lambda_k) > function(mu_k):\n",
    "            # step2\n",
    "            a = lambda_k\n",
    "            b = b\n",
    "            lambda_k = mu_k\n",
    "            mu_k = self.g_mu(a,b)\n",
    "            k = k+1\n",
    "            return self.goldSearch(a,b,lambda_k,mu_k,function,k)\n",
    "\n",
    "        elif function(lambda_k) <= function(mu_k):\n",
    "            # step3\n",
    "            a = a\n",
    "            b = mu_k\n",
    "            mu_k = lambda_k\n",
    "            lambda_k = self.g_lambda(a,b)\n",
    "            k = k+1\n",
    "            return self.goldSearch(a,b,lambda_k,mu_k,function,k)\n",
    "GoldSearch = GoldSearch()"
   ]
  },
  {
   "cell_type": "code",
   "execution_count": 4,
   "metadata": {
    "collapsed": true,
    "deletable": true,
    "editable": true
   },
   "outputs": [],
   "source": [
    "def gradient(f):\n",
    "    return [sp.lambdify((x1,x2), f.diff(x, 1), 'numpy') for x in [x1,x2]]"
   ]
  },
  {
   "cell_type": "markdown",
   "metadata": {
    "collapsed": true,
    "deletable": true,
    "editable": true
   },
   "source": [
    "# Fletcher_Reeves\n",
    "初始點 (1,1)  \n",
    "GoldSearch interval -5 ~ 5  \n",
    "e = 10**-5  \n",
    "number of iterations : 24  \n",
    "run time : 0.91s"
   ]
  },
  {
   "cell_type": "code",
   "execution_count": 5,
   "metadata": {
    "collapsed": true,
    "deletable": true,
    "editable": true
   },
   "outputs": [],
   "source": [
    "def Fletcher_Reeves(f,xj):\n",
    "    lambda_j = sp.symbols('lambda_j')\n",
    "    e = 10**-5\n",
    "    sj = np.array(map(lambda fun : fun( xj[0],xj[1] ),gradient(f)))*(-1)\n",
    "    i = 1\n",
    "    while np.linalg.norm(sj) > e:\n",
    "        i = i+1\n",
    "        tmp = xj+lambda_j*sj\n",
    "        new_f = f.subs([(x1,tmp[0]),(x2,tmp[1])])\n",
    "        lambdaJ = GoldSearch.goldSearch(a,b,GoldSearch.g_lambda(a,b),GoldSearch.g_mu(a,b),sp.lambdify(lambda_j , new_f))\n",
    "        xj_1 = xj+lambdaJ*sj\n",
    "        sj_1 = np.array(map(lambda fun : fun( xj_1[0],xj_1[1] ),gradient(f)))*(-1)\n",
    "        beta_j = np.dot(sj_1.T,sj_1)/np.dot(sj.T,sj)\n",
    "        sj_1 = sj_1+beta_j*sj\n",
    "        sj = sj_1\n",
    "        xj = xj_1\n",
    "    return xj_1,i"
   ]
  },
  {
   "cell_type": "code",
   "execution_count": 6,
   "metadata": {
    "collapsed": false,
    "deletable": true,
    "editable": true
   },
   "outputs": [
    {
     "name": "stdout",
     "output_type": "stream",
     "text": [
      "[ 3.00000314  0.50000078]\n",
      "24\n",
      "0:00:00.916073\n"
     ]
    }
   ],
   "source": [
    "a = -5\n",
    "b = 5\n",
    "x1,x2 = sp.symbols('x1,x2')\n",
    "f = (1.5-x1*(1-x2))**2 + (2.25-x1*(1-x2**2))**2 + (2.625-x1*(1-x2**3))**2\n",
    "# 初始點\n",
    "xj = np.array([1,1])\n",
    "start = datetime.datetime.now()\n",
    "xj_1,i = Fletcher_Reeves(f,xj)\n",
    "end = datetime.datetime.now()\n",
    "print xj_1\n",
    "print i\n",
    "print end - start"
   ]
  },
  {
   "cell_type": "markdown",
   "metadata": {
    "collapsed": true,
    "deletable": true,
    "editable": true
   },
   "source": [
    "# DFP\n",
    "初始點 (1,1)  \n",
    "GoldSearch interval -5 ~ 5  \n",
    "e = 10**-5  \n",
    "number of iterations : 8  \n",
    "run time : 0.34s"
   ]
  },
  {
   "cell_type": "code",
   "execution_count": 7,
   "metadata": {
    "collapsed": false,
    "deletable": true,
    "editable": true
   },
   "outputs": [],
   "source": [
    "def DFP(f,xi):\n",
    "    lambda_i = sp.symbols('lambda_i')\n",
    "    e = 10**-3\n",
    "    gradient_f = (np.array(map(lambda fun : fun( xi[0],xi[1] ),gradient(f)))).reshape(2,1)\n",
    "    Bi = np.identity(2)\n",
    "    i = 0\n",
    "    while abs(np.linalg.norm(gradient_f)) > e:\n",
    "        i = i+1\n",
    "        si = (np.dot(Bi,gradient_f)*(-1)).reshape(1,2)[0]\n",
    "        tmp = xi+lambda_i*si\n",
    "        new_f = f.subs([(x1,tmp[0]),(x2,tmp[1])])\n",
    "        lambdaI = GoldSearch.goldSearch(a,b,GoldSearch.g_lambda(a,b),GoldSearch.g_mu(a,b),sp.lambdify(lambda_i , new_f))\n",
    "        xi_1 = xi+lambdaI*si\n",
    "        gradient_f_1 = (np.array(map(lambda fun : fun( xi_1[0],xi_1[1] ),gradient(f)))).reshape(2,1)\n",
    "        if abs(np.linalg.norm(gradient_f_1)) > e:\n",
    "            gi = (gradient_f_1 - gradient_f).reshape(1,2)[0]\n",
    "            Mi = (np.dot(si.reshape(2,1),si.reshape(2,1).T))*lambdaI/np.dot(si.T,gi)\n",
    "            Ni = np.dot(np.dot(Bi,gi).reshape(2,1),np.dot(Bi,gi).T.reshape(1,2))*(-1)/np.dot(np.dot(gi.T,Bi),gi)\n",
    "            Bi = Bi+Mi+Ni\n",
    "            xi = xi_1\n",
    "            gradient_f = (np.array(map(lambda fun : fun( xi[0],xi[1] ),gradient(f)))).reshape(2,1)\n",
    "        else:\n",
    "            return xi_1,i"
   ]
  },
  {
   "cell_type": "code",
   "execution_count": 8,
   "metadata": {
    "collapsed": false,
    "deletable": true,
    "editable": true
   },
   "outputs": [
    {
     "name": "stdout",
     "output_type": "stream",
     "text": [
      "[ 3.00002223  0.49998904]\n",
      "8\n",
      "0:00:00.343704\n"
     ]
    }
   ],
   "source": [
    "a = -5\n",
    "b = 5\n",
    "x1,x2 = sp.symbols('x1,x2')\n",
    "f = (1.5-x1*(1-x2))**2 + (2.25-x1*(1-x2**2))**2 + (2.625-x1*(1-x2**3))**2\n",
    "xi = np.array([1,1])\n",
    "\n",
    "start = datetime.datetime.now()\n",
    "xi_1,i = DFP(f,xi)\n",
    "end = datetime.datetime.now()\n",
    "print xi_1\n",
    "print i\n",
    "print end - start"
   ]
  },
  {
   "cell_type": "markdown",
   "metadata": {
    "deletable": true,
    "editable": true
   },
   "source": [
    "# BFGS\n",
    "初始點 (1,1)  \n",
    "GoldSearch interval -5 ~ 5  \n",
    "e = 10**-5  \n",
    "number of iterations : 8  \n",
    "run time : 0.38s"
   ]
  },
  {
   "cell_type": "code",
   "execution_count": 9,
   "metadata": {
    "collapsed": true,
    "deletable": true,
    "editable": true
   },
   "outputs": [],
   "source": [
    "def BFGS(f,xi):\n",
    "    lambda_i = sp.symbols('lambda_i')\n",
    "    e = 10**-3\n",
    "    gradient_f = (np.array(map(lambda fun : fun( xi[0],xi[1] ),gradient(f)))).reshape(2,1)\n",
    "    Bi = np.identity(2)\n",
    "    i = 0\n",
    "    while abs(np.linalg.norm(gradient_f)) > e:\n",
    "        i = i+1\n",
    "        si = (np.dot(Bi,gradient_f)*(-1)).reshape(1,2)[0]\n",
    "        tmp = xi+lambda_i*si\n",
    "        new_f = f.subs([(x1,tmp[0]),(x2,tmp[1])])\n",
    "        lambdaI = GoldSearch.goldSearch(a,b,GoldSearch.g_lambda(a,b),GoldSearch.g_mu(a,b),sp.lambdify(lambda_i , new_f))\n",
    "        xi_1 = xi+lambdaI*si\n",
    "        gradient_f_1 = (np.array(map(lambda fun : fun( xi_1[0],xi_1[1] ),gradient(f)))).reshape(2,1)\n",
    "        if abs(np.linalg.norm(gradient_f_1)) > e:\n",
    "            gi = (gradient_f_1 - gradient_f).reshape(1,2)[0]\n",
    "            di = xi_1-xi\n",
    "            Mi = ((1 + np.dot(np.dot(gi.T,Bi),gi)/np.dot(di.T,gi))*np.dot(di.reshape(2,1),di.reshape(1,2)))/np.dot(di.T,gi)\n",
    "            Ni = np.dot(np.dot(di.reshape(2,1),gi.reshape(1,2)),Bi)*(-1)/np.dot(di.T,gi)\n",
    "            Qi = np.dot(np.dot(Bi,gi).reshape(2,1),di.reshape(1,2))*(-1)/np.dot(di.T,gi)\n",
    "            Bi = Bi+Mi+Ni+Qi\n",
    "            xi = xi_1\n",
    "            gradient_f = (np.array(map(lambda fun : fun( xi[0],xi[1] ),gradient(f)))).reshape(2,1)\n",
    "        else:\n",
    "            return xi_1,i"
   ]
  },
  {
   "cell_type": "code",
   "execution_count": 10,
   "metadata": {
    "collapsed": false,
    "deletable": true,
    "editable": true
   },
   "outputs": [
    {
     "name": "stdout",
     "output_type": "stream",
     "text": [
      "[ 3.00002222  0.49998909]\n",
      "8\n",
      "0:00:00.389444\n"
     ]
    }
   ],
   "source": [
    "a = -5\n",
    "b = 5\n",
    "x1,x2 = sp.symbols('x1,x2')\n",
    "f = (1.5-x1*(1-x2))**2 + (2.25-x1*(1-x2**2))**2 + (2.625-x1*(1-x2**3))**2\n",
    "xi = np.array([1,1])\n",
    "\n",
    "start = datetime.datetime.now()\n",
    "xi_1,i = BFGS(f,xi)\n",
    "end = datetime.datetime.now()\n",
    "print xi_1\n",
    "print i\n",
    "print end - start"
   ]
  },
  {
   "cell_type": "code",
   "execution_count": 11,
   "metadata": {
    "collapsed": false,
    "deletable": true,
    "editable": true
   },
   "outputs": [
    {
     "name": "stdout",
     "output_type": "stream",
     "text": [
      "Optimization terminated successfully.\n",
      "         Current function value: 0.000000\n",
      "         Iterations: 56\n",
      "         Function evaluations: 107\n"
     ]
    },
    {
     "data": {
      "text/plain": [
       "array([ 3.00002489,  0.50000749])"
      ]
     },
     "execution_count": 11,
     "metadata": {},
     "output_type": "execute_result"
    }
   ],
   "source": [
    "from scipy.optimize import fmin\n",
    "\n",
    "def fun(X):\n",
    "    return (1.5-X[0]*(1-X[1]))**2 + (2.25-X[0]*(1-X[1]**2))**2 + (2.625-X[0]*(1-X[1]**3))**2\n",
    "\n",
    "fmin(fun,np.array([1,1]))"
   ]
  },
  {
   "cell_type": "markdown",
   "metadata": {
    "collapsed": true,
    "deletable": true,
    "editable": true
   },
   "source": [
    "# scipy python做科學計算的lib\n",
    "出處 ： http://docs.scipy.org/doc/scipy/reference/generated/scipy.optimize.fmin.html#scipy.optimize.fmin  \n",
    "Minimize a function using the downhill simplex algorithm.  \n",
    "This algorithm only uses function values, not derivatives or second derivatives.  "
   ]
  }
 ],
 "metadata": {
  "kernelspec": {
   "display_name": "Python 3",
   "language": "python",
   "name": "python3"
  },
  "language_info": {
   "codemirror_mode": {
    "name": "ipython",
    "version": 3
   },
   "file_extension": ".py",
   "mimetype": "text/x-python",
   "name": "python",
   "nbconvert_exporter": "python",
   "pygments_lexer": "ipython3",
   "version": "3.6.0"
  }
 },
 "nbformat": 4,
 "nbformat_minor": 0
}
