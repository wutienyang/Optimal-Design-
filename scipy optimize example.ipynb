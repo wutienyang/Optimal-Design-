{
 "cells": [
  {
   "cell_type": "code",
   "execution_count": 46,
   "metadata": {
    "collapsed": true,
    "deletable": true,
    "editable": true
   },
   "outputs": [],
   "source": [
    "from scipy.optimize import linprog\n",
    "from scipy.optimize import minimize, rosen, rosen_der"
   ]
  },
  {
   "cell_type": "markdown",
   "metadata": {
    "deletable": true,
    "editable": true
   },
   "source": [
    "## 1. Solve the following problem by any commercial software or your own code. For example, you can use one of the Matlab optimization functions or the C code in Numerical Recipes in C. \n",
    "\n",
    "##$minimize Z = \\sum_{i=1}^{9}(\\frac{F_{i}}{A_{i}} )^{n} , n = 2$  \n",
    "### subject to :  \n",
    "##$f_{1} = d_{1}F_{1} - d_{2}F_{2} - d_{3a}F_{3} - M_{1} = 0$  \n",
    "##$f_{2} = -d_{3k}F_{3} + d_{4}F_{4} + d_{5k}F_{5} - d_{6}F_{6} - d_{7k}F_{7} - M_{2}= 0$  \n",
    "##$f_{3} = d_{5h}F_{5} - d_{7h}F_{7} + d_{8}F_{8} - d_{9}F_{9} - M_{3}= 0$  \n",
    "##$F_{i} \\geq 0 (i = 1,2, ...,9)$  \n",
    "The values of the constants are given below:  \n",
    "M1=4; M2=33; M3=31;  \n",
    "d1, d2, d3a, d3k, d4, d5k, d5h, d6, d7k, d7h, d8, d9 are included in the following vector:  \n",
    "d=[0.0298  0.044  0.044  0.0138  0.0329  0.0329  0.0279  0.025  0.025  0.0619  0.0317  0.0368];  \n",
    "The values of Ai are also included in the vector  \n",
    "A=[11.5  92.5  44.3  98.1  20.1  6.1  45.5  31.0  44.3];  "
   ]
  },
  {
   "cell_type": "code",
   "execution_count": 47,
   "metadata": {
    "collapsed": false,
    "deletable": true,
    "editable": true
   },
   "outputs": [
    {
     "data": {
      "text/plain": [
       "   status: 0\n",
       "  success: True\n",
       "     njev: 74\n",
       "     nfev: 814\n",
       " hess_inv: array([[  5.92612776e+01,   1.13858887e-01,  -4.80875734e-01,\n",
       "          8.81037834e-02,  -1.06863192e+00,  -1.95527784e-01,\n",
       "         -2.96264952e-01,   5.07576761e-01,  -7.21313928e-01],\n",
       "       [  1.13858887e-01,   1.94929049e+03,  -2.25290484e+01,\n",
       "          1.95179715e+03,   2.64293860e+00,  -1.21730054e-01,\n",
       "          1.97692004e+02,   2.64373067e+01,  -3.37934575e+01],\n",
       "       [ -4.80875734e-01,  -2.25290484e+01,   2.78501417e+02,\n",
       "         -4.78722809e+01,  -1.68262728e+00,   4.71530842e-01,\n",
       "          2.37974490e+01,   7.44838411e+00,   4.16252071e+02],\n",
       "       [  8.81037834e-02,   1.95179715e+03,  -4.78722809e+01,\n",
       "          2.00820819e+03,   1.80085668e+00,  -9.42243764e-02,\n",
       "          3.85476153e+02,   1.67457501e+01,  -7.18082062e+01],\n",
       "       [ -1.06863192e+00,   2.64293860e+00,  -1.68262728e+00,\n",
       "          1.80085668e+00,   1.84912279e+02,   6.30544494e-01,\n",
       "         -3.64613197e+00,   2.08499938e+00,  -2.52394238e+00],\n",
       "       [ -1.95527784e-01,  -1.21730054e-01,   4.71530842e-01,\n",
       "         -9.42243764e-02,   6.30544494e-01,   1.66549488e+01,\n",
       "          2.98366051e-01,  -4.36005898e-01,   7.07296390e-01],\n",
       "       [ -2.96264952e-01,   1.97692004e+02,   2.37974490e+01,\n",
       "          3.85476153e+02,  -3.64613197e+00,   2.98366051e-01,\n",
       "          7.50062431e+02,  -2.79857007e+01,   3.56965437e+01],\n",
       "       [  5.07576761e-01,   2.64373067e+01,   7.44838411e+00,\n",
       "          1.67457501e+01,   2.08499938e+00,  -4.36005898e-01,\n",
       "         -2.79857007e+01,   4.50057963e+02,   1.11725616e+01],\n",
       "       [ -7.21313928e-01,  -3.37934575e+01,   4.16252071e+02,\n",
       "         -7.18082062e+01,  -2.52394238e+00,   7.07296390e-01,\n",
       "          3.56965437e+01,   1.11725616e+01,   6.25378025e+02]])\n",
       "      fun: 2.0457634081458058e-07\n",
       "        x: array([  1.16156911e-06,   2.14528963e-02,  -7.77134973e-04,\n",
       "        -3.53058165e-02,   4.84670902e-05,  -1.26255305e-06,\n",
       "         6.42954925e-03,   5.26556163e-04,  -1.16569375e-03])\n",
       "  message: 'Optimization terminated successfully.'\n",
       "      jac: array([  1.76789356e-08,   5.01455749e-06,  -7.91981130e-07,\n",
       "        -7.33733164e-06,   2.39967033e-07,  -6.74604941e-08,\n",
       "         6.21138191e-06,   1.09586600e-06,  -1.18796661e-06])\n",
       "      nit: 71"
      ]
     },
     "execution_count": 47,
     "metadata": {},
     "output_type": "execute_result"
    }
   ],
   "source": [
    "# x[0],x[1],x[2],x[3],x[4],x[5],x[6],x[7],x[8]\n",
    "# F1  ,F2  ,F3  ,F4  ,F5  ,F6  ,F7  ,F8  ,F9  \n",
    "# M1=4; M2=33; M3=31;\n",
    "# vector: d=[0.0298  0.044  0.044  0.0138  0.0329  0.0329  0.0279  0.025  0.025  0.0619  0.0317  0.0368]\n",
    "# The values of Ai are also included in the vector A=[11.5  92.5  44.3  98.1  20.1  6.1  45.5  31.0  44.3]\n",
    "\n",
    "d1 = 0.0298\n",
    "d2 = 0.044\n",
    "d3a = 0.044\n",
    "d3k = 0.0138\n",
    "d4 = 0.0329\n",
    "d5k = 0.0329\n",
    "d5h = 0.0279\n",
    "d6 = 0.025\n",
    "d7k = 0.025\n",
    "d7h = 0.0619\n",
    "d8 = 0.0317 \n",
    "d9 = 0.0368\n",
    "M1=4\n",
    "M2=33\n",
    "M3=31\n",
    "A1 = 11.5\n",
    "A2 = 92.5\n",
    "A3 = 44.3\n",
    "A4 = 98.1\n",
    "A5 = 20.1\n",
    "A6 = 6.1\n",
    "A7 = 45.5\n",
    "A8 = 31.0\n",
    "A9 = 44.3\n",
    "\n",
    "cons = ({'type': 'eq', 'fun': lambda x:  d1*x[0] -d2*x[1] -d3a*x[2] -M1},\n",
    "        {'type': 'eq', 'fun': lambda x: -d3k*x[2] +d4*x[3] +d5k*x[4] -d6*x[5] -d7k*x[6] -M2},\n",
    "        {'type': 'eq', 'fun': lambda x: d5h*x[4] -d7h*x[6] +d8*x[7] -d9*x[8] -M3})\n",
    "bnds = ((0, None), (0, None), (0, None), (0, None), (0, None), (0, None), (0, None), (0, None), (0, None))\n",
    "fun = lambda x: (x[0]/A1)**2 + (x[1]/A2)**2 + (x[2]/A3)**2 + (x[3]/A4)**2 + (x[4]/A5)**2 + (x[5]/A6)**2 + (x[6]/A7)**2 + (x[7]/A8)**2+ (x[8]/A9)**2\n",
    "res = minimize(fun,(1,-1,2,-1,1,-2,1,-1,3),method='BFGS',constraints=cons)\n",
    "res"
   ]
  },
  {
   "cell_type": "markdown",
   "metadata": {
    "deletable": true,
    "editable": true
   },
   "source": [
    "[Python - scipy.optimize.minimize](http://docs.scipy.org/doc/scipy/reference/generated/scipy.optimize.minimize.html#scipy.optimize.minimize)\n",
    "\n",
    "`Method BFGS uses the quasi-Newton method of Broyden, Fletcher, Goldfarb, and Shanno (BFGS) [R154] pp. 136. It uses the first derivatives only. BFGS has proven good performance even for non-smooth optimizations. This method also returns an approximation of the Hessian inverse, stored as hess_inv in the OptimizeResult object.`\n",
    "\n",
    "**fun: 2.045762655883483e-07**  \n",
    "**x array => F1 - F9**  \n",
    "**x: array([  1.16156744e-06,   2.14529206e-02,  -7.77132347e-04,\n",
    "        -3.53057975e-02,   4.84668297e-05,  -1.26254708e-06,\n",
    "         6.42954079e-03,   5.26552871e-04,  -1.16569439e-03])**"
   ]
  },
  {
   "cell_type": "markdown",
   "metadata": {
    "deletable": true,
    "editable": true
   },
   "source": [
    "## 2.\tSolve the following Linear Programming problem by any commercial software or your own code.  \n",
    "###$ Maximize- y_{1} + 2y_{2} = 0$  \n",
    "### Subject to  \n",
    "###$ 3y_{1} + 2y_{2} \\leq 12$  \n",
    "###$ 2y_{1} + 3y_{2} \\geq 6$  \n",
    "###$ y_{1} + y_{2} = 5$  \n",
    "###$ y_{1} \\geq 0$ \n",
    "### y2 is free in sign.  "
   ]
  },
  {
   "cell_type": "code",
   "execution_count": 48,
   "metadata": {
    "collapsed": false,
    "deletable": true,
    "editable": true
   },
   "outputs": [
    {
     "name": "stdout",
     "output_type": "stream",
     "text": [
      "Optimization terminated successfully.\n",
      "         Current function value: -10.000000  \n",
      "         Iterations: 6\n"
     ]
    },
    {
     "data": {
      "text/plain": [
       "  status: 0\n",
       "   slack: array([ 2.,  9.])\n",
       " success: True\n",
       "     fun: -10.0\n",
       "       x: array([ 0.,  5.])\n",
       " message: 'Optimization terminated successfully.'\n",
       "     nit: 6"
      ]
     },
     "execution_count": 48,
     "metadata": {},
     "output_type": "execute_result"
    }
   ],
   "source": [
    "c = [-1, -2]\n",
    "A = [[3, 2], [-2, -3]]\n",
    "eA = [[1,1]]\n",
    "b = [12, -6]\n",
    "eb = [5]\n",
    "x0_bounds = (0, None)\n",
    "x1_bounds = (None, None)\n",
    "res = linprog(c, A_ub=A, b_ub=b, A_eq=eA, b_eq=eb, bounds=(x0_bounds, x1_bounds),options={\"disp\": True})\n",
    "res"
   ]
  },
  {
   "cell_type": "markdown",
   "metadata": {
    "collapsed": false,
    "deletable": true,
    "editable": true
   },
   "source": [
    "[scipy.optimize.linprog](http://docs.scipy.org/doc/scipy-0.17.0/reference/generated/scipy.optimize.linprog.html)  \n",
    "** fun: -10.0 **  \n",
    "** x array -> y1,y2**  \n",
    "** x: array([ 0.,  5.]) **  "
   ]
  }
 ],
 "metadata": {
  "kernelspec": {
   "display_name": "Python 3",
   "language": "python",
   "name": "python3"
  },
  "language_info": {
   "codemirror_mode": {
    "name": "ipython",
    "version": 3
   },
   "file_extension": ".py",
   "mimetype": "text/x-python",
   "name": "python",
   "nbconvert_exporter": "python",
   "pygments_lexer": "ipython3",
   "version": "3.6.0"
  }
 },
 "nbformat": 4,
 "nbformat_minor": 0
}
